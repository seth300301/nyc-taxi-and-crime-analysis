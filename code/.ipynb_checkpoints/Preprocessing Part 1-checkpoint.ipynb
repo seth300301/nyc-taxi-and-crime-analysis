{
 "cells": [
  {
   "cell_type": "code",
   "execution_count": 10,
   "id": "de3ae0a0",
   "metadata": {},
   "outputs": [],
   "source": [
    "import pandas as pd\n",
    "import numpy as np\n",
    "import seaborn as sns\n",
    "import matplotlib.pyplot as plt\n",
    "from collections import defaultdict\n",
    "import folium\n",
    "import geopandas as gpd\n",
    "from shapely.geometry import Point, Polygon\n",
    "import csv\n",
    "\n",
    "import warnings\n",
    "warnings.filterwarnings(\"ignore\")"
   ]
  },
  {
   "cell_type": "markdown",
   "id": "98552a92",
   "metadata": {},
   "source": [
    "# Yellow Taxi Datasets"
   ]
  },
  {
   "cell_type": "code",
   "execution_count": 17,
   "id": "a6bbbe79",
   "metadata": {},
   "outputs": [],
   "source": [
    "yellow = defaultdict()\n",
    "\n",
    "yellow['jan'] = pd.read_csv(\"../raw_data/yellow_jan_2019.csv\")\n",
    "yellow['feb'] = pd.read_csv(\"../raw_data/yellow_feb_2019.csv\")\n",
    "yellow['mar'] = pd.read_csv(\"../raw_data/yellow_mar_2019.csv\")\n",
    "yellow['apr'] = pd.read_csv(\"../raw_data/yellow_apr_2019.csv\")\n",
    "yellow['may'] = pd.read_csv(\"../raw_data/yellow_may_2019.csv\")\n",
    "yellow['jun'] = pd.read_csv(\"../raw_data/yellow_jun_2019.csv\")\n",
    "yellow['jul'] = pd.read_csv(\"../raw_data/yellow_jul_2019.csv\")\n",
    "yellow['aug'] = pd.read_csv(\"../raw_data/yellow_aug_2019.csv\")\n",
    "yellow['sep'] = pd.read_csv(\"../raw_data/yellow_sep_2019.csv\")\n",
    "yellow['oct'] = pd.read_csv(\"../raw_data/yellow_oct_2019.csv\")\n",
    "yellow['nov'] = pd.read_csv(\"../raw_data/yellow_nov_2019.csv\")\n",
    "yellow['dec'] = pd.read_csv(\"../raw_data/yellow_dec_2019.csv\")"
   ]
  },
  {
   "cell_type": "markdown",
   "id": "54149c40",
   "metadata": {},
   "source": [
    "# Green Taxi Datasets"
   ]
  },
  {
   "cell_type": "code",
   "execution_count": 18,
   "id": "886ce06c",
   "metadata": {},
   "outputs": [],
   "source": [
    "green = defaultdict()\n",
    "\n",
    "green['jan'] = pd.read_csv(\"../raw_data/green_jan_2019.csv\")\n",
    "green['feb'] = pd.read_csv(\"../raw_data/green_feb_2019.csv\")\n",
    "green['mar'] = pd.read_csv(\"../raw_data/green_mar_2019.csv\")\n",
    "green['apr'] = pd.read_csv(\"../raw_data/green_apr_2019.csv\")\n",
    "green['may'] = pd.read_csv(\"../raw_data/green_may_2019.csv\")\n",
    "green['jun'] = pd.read_csv(\"../raw_data/green_jun_2019.csv\")\n",
    "green['jul'] = pd.read_csv(\"../raw_data/green_jul_2019.csv\")\n",
    "green['aug'] = pd.read_csv(\"../raw_data/green_aug_2019.csv\")\n",
    "green['sep'] = pd.read_csv(\"../raw_data/green_sep_2019.csv\")\n",
    "green['oct'] = pd.read_csv(\"../raw_data/green_oct_2019.csv\")\n",
    "green['nov'] = pd.read_csv(\"../raw_data/green_nov_2019.csv\")\n",
    "green['dec'] = pd.read_csv(\"../raw_data/green_dec_2019.csv\")"
   ]
  },
  {
   "cell_type": "markdown",
   "id": "d8e5f363",
   "metadata": {},
   "source": [
    "# Removal of Unwanted Features and Compiling CSVs"
   ]
  },
  {
   "cell_type": "code",
   "execution_count": 19,
   "id": "e6cb5874",
   "metadata": {},
   "outputs": [],
   "source": [
    "taxi_months = ['jan','feb','mar','apr','may','jun','jul','aug','sep','oct','nov','dec']\n",
    "\n",
    "# unwanted features from green and yellow taxi datasets respectively\n",
    "green_removal = ['VendorID','passenger_count','RatecodeID','store_and_fwd_flag','DOLocationID','mta_tax','tolls_amount', \\\n",
    "                 'improvement_surcharge','extra','total_amount','ehail_fee','trip_type']\n",
    "yellow_removal = ['VendorID','passenger_count','RatecodeID','store_and_fwd_flag','DOLocationID','mta_tax','tolls_amount', \\\n",
    "                 'improvement_surcharge','extra','total_amount']"
   ]
  },
  {
   "cell_type": "code",
   "execution_count": 20,
   "id": "c99748b6",
   "metadata": {},
   "outputs": [],
   "source": [
    "# removes the unwanted features from both types of datasets for each month and compiles them together and produces a CSV for\n",
    "# that month\n",
    "\n",
    "for i in range(12):\n",
    "    green[taxi_months[i]] = green[taxi_months[i]].rename(columns={\"lpep_pickup_datetime\": \"tpep_pickup_datetime\", \"lpep_dropoff_datetime\": \"tpep_dropoff_datetime\"})\n",
    "    green[taxi_months[i]] = green[taxi_months[i]].drop(labels = green_removal, axis = 1)\n",
    "    yellow[taxi_months[i]] = yellow[taxi_months[i]].drop(labels = yellow_removal, axis = 1)\n",
    "    write = pd.concat([yellow[taxi_months[i]], green[taxi_months[i]]])\n",
    "    write = write.reset_index()\n",
    "    write = write.drop(labels = ['index'], axis = 1)\n",
    "    write.to_csv(\"../raw_data/taxi_\" + taxi_months[i] + \"_2019.csv\", index = False)    "
   ]
  },
  {
   "cell_type": "code",
   "execution_count": null,
   "id": "d5918a07",
   "metadata": {},
   "outputs": [],
   "source": []
  }
 ],
 "metadata": {
  "kernelspec": {
   "display_name": "Python 3 (ipykernel)",
   "language": "python",
   "name": "python3"
  },
  "language_info": {
   "codemirror_mode": {
    "name": "ipython",
    "version": 3
   },
   "file_extension": ".py",
   "mimetype": "text/x-python",
   "name": "python",
   "nbconvert_exporter": "python",
   "pygments_lexer": "ipython3",
   "version": "3.9.5"
  }
 },
 "nbformat": 4,
 "nbformat_minor": 5
}
